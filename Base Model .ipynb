{
 "cells": [
  {
   "cell_type": "code",
   "execution_count": 2,
   "id": "ff384dcc-a086-4eaf-a09a-8ecf8f22b0c4",
   "metadata": {},
   "outputs": [],
   "source": [
    "import pandas as pd\n",
    "import torch\n",
    "import torch.nn as nn\n",
    "from sklearn.model_selection import train_test_split\n",
    "from sklearn.preprocessing import StandardScaler\n",
    "from sklearn.metrics import mean_squared_error\n",
    "import numpy as np"
   ]
  },
  {
   "cell_type": "code",
   "execution_count": 13,
   "id": "35af70f9-58f9-4a92-acb4-a9e4762473a2",
   "metadata": {},
   "outputs": [
    {
     "name": "stdout",
     "output_type": "stream",
     "text": [
      "   Run #  Pm02  Pm03  factor5  factor6  factor8  f_nadir(Hz)  RoCof(Hz/s)  \\\n",
      "0      1   143    65      0.9      0.9      0.9    59.321788    -0.922567   \n",
      "1      2   148    65      0.9      0.9      0.9    59.360917    -0.876443   \n",
      "2      3   153    65      0.9      0.9      0.9    59.400090    -0.827881   \n",
      "3      4   158    65      0.9      0.9      0.9    59.439296    -0.768516   \n",
      "4      5   163    65      0.9      0.9      0.9    59.478582    -0.718783   \n",
      "\n",
      "   InputPg1(MW) InputQg1(MVar)  ... InputQg2(MVar)  InputPg3(MW)  \\\n",
      "0     41.117377      41.158379  ...     108.862559     21.856561   \n",
      "1     38.649959      38.686376  ...     112.537104     21.857274   \n",
      "2     36.181663      36.213798  ...     116.210692     21.857992   \n",
      "3     33.712519      33.740681  ...     119.883272     21.858614   \n",
      "4     31.242544      31.267048  ...     123.554810     21.859126   \n",
      "\n",
      "   InputQg3(MVar)  Pload5_og(MW)  Qload5_og(MVar)  Pload6_og(MW)  \\\n",
      "0       43.713063     113.317420        45.433809      83.369259   \n",
      "1       43.714489     113.205505        45.388912      83.310635   \n",
      "2       43.715924     113.085702        45.340847      83.247828   \n",
      "3       43.717169     112.957989        45.289604      83.180824   \n",
      "4       43.718193     112.822330        45.235170      83.109601   \n",
      "\n",
      "   Qload6_og(MVar)  Pload8_og(MW)  Qload8_og(MVar)  gen  \n",
      "0        27.855256      92.945754        32.607700    1  \n",
      "1        27.835653      92.909505        32.594964    1  \n",
      "2        27.814649      92.869200        32.580801    1  \n",
      "3        27.792239      92.824833        32.565209    1  \n",
      "4        27.768416      92.776387        32.548181    1  \n",
      "\n",
      "[5 rows x 21 columns]\n"
     ]
    }
   ],
   "source": [
    "import pandas as pd\n",
    "\n",
    "# Specify the full file path\n",
    "file_path = r\"C:\\Users\\saima\\Downloads\\GenContingencyAllGen.xlsx\" \n",
    "df = pd.read_excel(file_path)\n",
    "\n",
    "print(df.head())"
   ]
  },
  {
   "cell_type": "code",
   "execution_count": 15,
   "id": "ee799d5c-8316-4518-8479-f4adb9e31b8b",
   "metadata": {},
   "outputs": [],
   "source": [
    "# Features and targets\n",
    "X = df.drop(columns=[\"f_nadir(Hz)\", \"RoCof(Hz/s)\", \"Run #\", \"gen\"])\n",
    "y = df[[\"f_nadir(Hz)\", \"RoCof(Hz/s)\"]]"
   ]
  },
  {
   "cell_type": "code",
   "execution_count": 23,
   "id": "07b9982b-746b-446f-85bb-a52d34a83d65",
   "metadata": {},
   "outputs": [
    {
     "name": "stdout",
     "output_type": "stream",
     "text": [
      "Non-numeric columns: Index(['InputQg1(MVar)', 'InputPg2(MW)'], dtype='object')\n",
      "\n",
      "Before cleaning InputQg1(MVar):\n",
      "[41.15837875 38.68637589 36.21379788 33.74068116 31.26704821]\n",
      "After cleaning InputQg1(MVar):\n",
      "[41.15837875 38.68637589 36.21379788 33.74068116 31.26704821]\n",
      "\n",
      "Before cleaning InputPg2(MW):\n",
      "[36.2875198 37.51236788 38.73689726 39.9610906 41.18493652]\n",
      "After cleaning InputPg2(MW):\n",
      "[36.2875198  37.51236788 38.73689726 39.9610906  41.18493652]\n"
     ]
    }
   ],
   "source": [
    "import pandas as pd\n",
    "import numpy as np\n",
    "\n",
    "# Check which columns are object or string type\n",
    "non_numeric_cols = X.select_dtypes(include='object').columns\n",
    "print(\"Non-numeric columns:\", non_numeric_cols)\n",
    "\n",
    "# Clean and convert each one\n",
    "for col in non_numeric_cols:\n",
    "    print(f\"\\nBefore cleaning {col}:\")\n",
    "    print(X[col].unique()[:5])  # show first few unique values\n",
    "\n",
    "    # Try to split malformed strings and keep the correct part\n",
    "    X[col] = X[col].astype(str).str.extract(r'([+-]?[0-9]*\\.?[0-9]+(?:[eE][+-]?[0-9]+)?)')[0]\n",
    "\n",
    "    # Convert to numeric (coerce errors to NaN)\n",
    "    X[col] = pd.to_numeric(X[col], errors='coerce')\n",
    "\n",
    "    print(f\"After cleaning {col}:\")\n",
    "    print(X[col].unique()[:5])\n"
   ]
  },
  {
   "cell_type": "code",
   "execution_count": 25,
   "id": "00ccbaf9-85a0-4045-afab-7aac300b0901",
   "metadata": {},
   "outputs": [],
   "source": [
    "X = X.dropna()\n",
    "y = y.loc[X.index]  # align y with X after dropping"
   ]
  },
  {
   "cell_type": "code",
   "execution_count": 27,
   "id": "d3c09091-2e2f-497f-a45c-937e885b0562",
   "metadata": {},
   "outputs": [],
   "source": [
    "from sklearn.preprocessing import StandardScaler\n",
    "\n",
    "x_scaler = StandardScaler()\n",
    "y_scaler = StandardScaler()\n",
    "\n",
    "X_scaled = x_scaler.fit_transform(X)\n",
    "y_scaled = y_scaler.fit_transform(y)"
   ]
  },
  {
   "cell_type": "code",
   "execution_count": 29,
   "id": "1335d679-0510-4373-8ffa-cb58b6eca1e3",
   "metadata": {},
   "outputs": [],
   "source": [
    "# Train-test split\n",
    "X_train, X_test, y_train, y_test = train_test_split(X_scaled, y_scaled, test_size=0.2, random_state=42)"
   ]
  },
  {
   "cell_type": "code",
   "execution_count": 31,
   "id": "3748b6a0-fa50-4c49-85ec-149c47e36832",
   "metadata": {},
   "outputs": [],
   "source": [
    "# Convert to PyTorch tensors\n",
    "X_train = torch.tensor(X_train, dtype=torch.float32)\n",
    "y_train = torch.tensor(y_train, dtype=torch.float32)\n",
    "X_test = torch.tensor(X_test, dtype=torch.float32)\n",
    "y_test = torch.tensor(y_test, dtype=torch.float32)\n"
   ]
  },
  {
   "cell_type": "code",
   "execution_count": 33,
   "id": "35f420f3-89b9-4f26-9551-1c736c7ce278",
   "metadata": {},
   "outputs": [],
   "source": [
    "# Define the base NN model\n",
    "class BaseNN(nn.Module):\n",
    "    def __init__(self):\n",
    "        super(BaseNN, self).__init__()\n",
    "        self.net = nn.Sequential(\n",
    "            nn.Linear(X_train.shape[1], 64),\n",
    "            nn.ReLU(),\n",
    "            nn.Linear(64, 32),\n",
    "            nn.ReLU(),\n",
    "            nn.Linear(32, 2)\n",
    "        )\n",
    "\n",
    "    def forward(self, x):\n",
    "        return self.net(x)"
   ]
  },
  {
   "cell_type": "code",
   "execution_count": 35,
   "id": "93b32733-56a3-4a17-9c17-7dec1be1effe",
   "metadata": {},
   "outputs": [],
   "source": [
    "# Instantiate and train the model\n",
    "model = BaseNN()\n",
    "criterion = nn.MSELoss()\n",
    "optimizer = torch.optim.Adam(model.parameters(), lr=0.001)\n"
   ]
  },
  {
   "cell_type": "code",
   "execution_count": 37,
   "id": "fb53d767-98cb-424e-b9fd-645b244a0cf1",
   "metadata": {},
   "outputs": [
    {
     "name": "stdout",
     "output_type": "stream",
     "text": [
      "Epoch 100/1000, Loss: 0.6217\n",
      "Epoch 200/1000, Loss: 0.5253\n",
      "Epoch 300/1000, Loss: 0.4973\n",
      "Epoch 400/1000, Loss: 0.4758\n",
      "Epoch 500/1000, Loss: 0.4606\n",
      "Epoch 600/1000, Loss: 0.4467\n",
      "Epoch 700/1000, Loss: 0.4357\n",
      "Epoch 800/1000, Loss: 0.4270\n",
      "Epoch 900/1000, Loss: 0.4192\n",
      "Epoch 1000/1000, Loss: 0.4124\n"
     ]
    }
   ],
   "source": [
    "# Training loop\n",
    "n_epochs = 1000\n",
    "for epoch in range(n_epochs):\n",
    "    model.train()\n",
    "    optimizer.zero_grad()\n",
    "    outputs = model(X_train)\n",
    "    loss = criterion(outputs, y_train)\n",
    "    loss.backward()\n",
    "    optimizer.step()\n",
    "    if (epoch + 1) % 100 == 0:\n",
    "        print(f\"Epoch {epoch+1}/{n_epochs}, Loss: {loss.item():.4f}\")"
   ]
  },
  {
   "cell_type": "code",
   "execution_count": 39,
   "id": "f74efa73-1272-4b9d-9338-4b97d8268b1b",
   "metadata": {},
   "outputs": [
    {
     "name": "stdout",
     "output_type": "stream",
     "text": [
      "RMSE - f_nadir: 0.1128 Hz\n",
      "RMSE - RoCof: 0.1453 Hz/s\n"
     ]
    }
   ],
   "source": [
    "# Evaluation\n",
    "model.eval()\n",
    "with torch.no_grad():\n",
    "    predictions = model(X_test)\n",
    "    predictions = y_scaler.inverse_transform(predictions.numpy())\n",
    "    y_test_actual = y_scaler.inverse_transform(y_test.numpy())\n",
    "\n",
    "rmse_f_nadir = np.sqrt(mean_squared_error(y_test_actual[:, 0], predictions[:, 0]))\n",
    "rmse_rocof = np.sqrt(mean_squared_error(y_test_actual[:, 1], predictions[:, 1]))\n",
    "\n",
    "print(f\"RMSE - f_nadir: {rmse_f_nadir:.4f} Hz\")\n",
    "print(f\"RMSE - RoCof: {rmse_rocof:.4f} Hz/s\")\n"
   ]
  },
  {
   "cell_type": "code",
   "execution_count": null,
   "id": "985a1fd1-dbb1-4a71-ab97-937ded23396a",
   "metadata": {},
   "outputs": [],
   "source": []
  }
 ],
 "metadata": {
  "kernelspec": {
   "display_name": "Python (test1)",
   "language": "python",
   "name": "test1"
  },
  "language_info": {
   "codemirror_mode": {
    "name": "ipython",
    "version": 3
   },
   "file_extension": ".py",
   "mimetype": "text/x-python",
   "name": "python",
   "nbconvert_exporter": "python",
   "pygments_lexer": "ipython3",
   "version": "3.12.8"
  }
 },
 "nbformat": 4,
 "nbformat_minor": 5
}
